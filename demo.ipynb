{
 "cells": [
  {
   "cell_type": "code",
   "execution_count": null,
   "metadata": {
    "collapsed": true
   },
   "outputs": [],
   "source": [
    "from PIL import Image\n",
    "import matplotlib\n",
    "import matplotlib.pyplot as plt\n",
    "import torch\n",
    "import numpy as np\n",
    "import argparse\n",
    "import pickle\n",
    "from argparse import Namespace\n",
    "\n",
    "from models.End_ExpansionNet_v2 import End_ExpansionNet_v2\n",
    "from utils.image_utils import preprocess_image\n",
    "from utils.language_utils import tokens2description"
   ]
  },
  {
   "cell_type": "code",
   "execution_count": null,
   "outputs": [],
   "source": [
    "model_dim = 512\n",
    "N_enc = 3\n",
    "N_dec = 3\n",
    "max_seq_len = 74\n",
    "load_path = \"github_ignore_material/saves/rf_model.pth\"\n",
    "image_path = \"./6.jpg\"\n",
    "beam_size = 5\n",
    "drop_args = Namespace(enc=0.0,\n",
    "                          dec=0.0,\n",
    "                          enc_input=0.0,\n",
    "                          dec_input=0.0,\n",
    "                          other=0.0)\n",
    "model_args = Namespace(model_dim=model_dim,\n",
    "                           N_enc=N_enc,\n",
    "                           N_dec=N_dec,\n",
    "                           dropout=0.0,\n",
    "                           drop_args=drop_args)\n",
    "with open('./demo_material/demo_coco_tokens.pickle', 'rb') as f:\n",
    "        coco_tokens = pickle.load(f)\n",
    "        sos_idx = coco_tokens['word2idx_dict'][coco_tokens['sos_str']]\n",
    "        eos_idx = coco_tokens['word2idx_dict'][coco_tokens['eos_str']]\n",
    "img_size = 384\n",
    "model = End_ExpansionNet_v2(swin_img_size=img_size, swin_patch_size=4, swin_in_chans=3,\n",
    "                                swin_embed_dim=192, swin_depths=[2, 2, 18, 2], swin_num_heads=[6, 12, 24, 48],\n",
    "                                swin_window_size=12, swin_mlp_ratio=4., swin_qkv_bias=True, swin_qk_scale=None,\n",
    "                                swin_drop_rate=0.0, swin_attn_drop_rate=0.0, swin_drop_path_rate=0.0,\n",
    "                                swin_norm_layer=torch.nn.LayerNorm, swin_ape=False, swin_patch_norm=True,\n",
    "                                swin_use_checkpoint=False,\n",
    "                                final_swin_dim=1536,\n",
    "                                d_model=model_args.model_dim, N_enc=model_args.N_enc,\n",
    "                                N_dec=model_args.N_dec, num_heads=8, ff=2048,\n",
    "                                num_exp_enc_list=[32, 64, 128, 256, 512],\n",
    "                                num_exp_dec=16,\n",
    "                                output_word2idx=coco_tokens['word2idx_dict'],\n",
    "                                output_idx2word=coco_tokens['idx2word_list'],\n",
    "                                max_seq_len=max_seq_len, drop_args=model_args.drop_args,\n",
    "                                rank='cpu')\n",
    "checkpoint = torch.load(load_path)\n",
    "model.load_state_dict(checkpoint['model_state_dict'])\n",
    "image = preprocess_image(image_path, img_size)\n",
    "beam_search_kwargs = {'beam_size': beam_size,\n",
    "                              'beam_max_seq_len': max_seq_len,\n",
    "                              'sample_or_max': 'max',\n",
    "                              'how_many_outputs': 1,\n",
    "                              'sos_idx': sos_idx,\n",
    "                              'eos_idx': eos_idx}\n",
    "with torch.no_grad():\n",
    "    pred, _ = model(enc_x=image,\n",
    "                            enc_x_num_pads=[0],\n",
    "                            mode='beam_search', **beam_search_kwargs)\n",
    "pred = tokens2description(pred[0][0], coco_tokens['idx2word_list'], sos_idx, eos_idx)\n",
    "image = Image.open(image_path)\n",
    "plt.imshow(np.asarray(image))\n",
    "plt.show()\n",
    "print('Description: ' + pred + '\\n')"
   ],
   "metadata": {
    "collapsed": false,
    "pycharm": {
     "is_executing": true
    }
   }
  },
  {
   "cell_type": "code",
   "execution_count": null,
   "outputs": [],
   "source": [],
   "metadata": {
    "collapsed": false
   }
  }
 ],
 "metadata": {
  "kernelspec": {
   "display_name": "Python 3",
   "language": "python",
   "name": "python3"
  },
  "language_info": {
   "codemirror_mode": {
    "name": "ipython",
    "version": 2
   },
   "file_extension": ".py",
   "mimetype": "text/x-python",
   "name": "python",
   "nbconvert_exporter": "python",
   "pygments_lexer": "ipython2",
   "version": "2.7.6"
  }
 },
 "nbformat": 4,
 "nbformat_minor": 0
}
